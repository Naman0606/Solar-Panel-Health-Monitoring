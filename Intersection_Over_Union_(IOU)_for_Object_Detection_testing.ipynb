{
  "nbformat": 4,
  "nbformat_minor": 0,
  "metadata": {
    "colab": {
      "provenance": []
    },
    "kernelspec": {
      "name": "python3",
      "display_name": "Python 3"
    },
    "language_info": {
      "name": "python"
    }
  },
  "cells": [
    {
      "cell_type": "code",
      "source": [
        "!pip install pandasql\n",
        "!pip install SQLAlchemy==1.4.17"
      ],
      "metadata": {
        "colab": {
          "base_uri": "https://localhost:8080/"
        },
        "id": "Y-sH1tN3NrVu",
        "outputId": "87fa2ae8-3114-4cc9-b79a-c100d8a15762"
      },
      "execution_count": null,
      "outputs": [
        {
          "output_type": "stream",
          "name": "stdout",
          "text": [
            "Looking in indexes: https://pypi.org/simple, https://us-python.pkg.dev/colab-wheels/public/simple/\n",
            "Requirement already satisfied: pandasql in /usr/local/lib/python3.10/dist-packages (0.7.3)\n",
            "Requirement already satisfied: numpy in /usr/local/lib/python3.10/dist-packages (from pandasql) (1.22.4)\n",
            "Requirement already satisfied: pandas in /usr/local/lib/python3.10/dist-packages (from pandasql) (1.5.3)\n",
            "Requirement already satisfied: sqlalchemy in /usr/local/lib/python3.10/dist-packages (from pandasql) (1.4.17)\n",
            "Requirement already satisfied: pytz>=2020.1 in /usr/local/lib/python3.10/dist-packages (from pandas->pandasql) (2022.7.1)\n",
            "Requirement already satisfied: python-dateutil>=2.8.1 in /usr/local/lib/python3.10/dist-packages (from pandas->pandasql) (2.8.2)\n",
            "Requirement already satisfied: greenlet!=0.4.17 in /usr/local/lib/python3.10/dist-packages (from sqlalchemy->pandasql) (2.0.2)\n",
            "Requirement already satisfied: six>=1.5 in /usr/local/lib/python3.10/dist-packages (from python-dateutil>=2.8.1->pandas->pandasql) (1.16.0)\n",
            "Looking in indexes: https://pypi.org/simple, https://us-python.pkg.dev/colab-wheels/public/simple/\n",
            "Requirement already satisfied: SQLAlchemy==1.4.17 in /usr/local/lib/python3.10/dist-packages (1.4.17)\n",
            "Requirement already satisfied: greenlet!=0.4.17 in /usr/local/lib/python3.10/dist-packages (from SQLAlchemy==1.4.17) (2.0.2)\n"
          ]
        }
      ]
    },
    {
      "cell_type": "code",
      "source": [
        "import os\n",
        "import cv2\n",
        "from google.colab.patches import cv2_imshow\n",
        "import glob\n",
        "import matplotlib.pyplot as plt\n",
        "import numpy as np\n",
        "import pandas as pd\n",
        "from pandasql import sqldf"
      ],
      "metadata": {
        "id": "OcahmZWkGcR5"
      },
      "execution_count": null,
      "outputs": []
    },
    {
      "cell_type": "code",
      "source": [
        "def load_images_from_folder(folder):\n",
        "    images = []\n",
        "    for subdir, dirs, files in os.walk(folder):\n",
        "        for file in files:\n",
        "            filepath = subdir + os.sep + file\n",
        "            if filepath.endswith(\".jpg\"):\n",
        "                img = cv2.imread(filepath)\n",
        "                if img is not None:\n",
        "                  images.append([img,file,subdir.split('/')[-1]])\n",
        "    return images\n",
        "\n",
        "image_data = load_images_from_folder(r'/content/drive/MyDrive/KJSCE/LY/DL/ProjectData/ORIGINAL_CLEANED')"
      ],
      "metadata": {
        "id": "BdcB0O4zIHbv"
      },
      "execution_count": null,
      "outputs": []
    },
    {
      "cell_type": "code",
      "source": [
        "df=pd.read_csv(r'/content/drive/MyDrive/KJSCE/LY/DL/ProjectData/cleaned_annotatation_data.csv')"
      ],
      "metadata": {
        "id": "tFea4z6oKX7G"
      },
      "execution_count": null,
      "outputs": []
    },
    {
      "cell_type": "code",
      "source": [
        "def get_pred_box(image_data):\n",
        "  pred_boxes=[]\n",
        "  image = image_data[0].copy()\n",
        "  img = cv2.cvtColor(image, cv2.COLOR_BGR2HSV)\n",
        "  cv2.rectangle(img, (4, 220) ,(57, 235), (255, 255, 255), -1)\n",
        "  image=cv2.blur(img,(9,9))\n",
        "  result = image.copy()\n",
        "  lower = np.array([0,0,155])\n",
        "  upper = np.array([179,150,255])\n",
        "  mask = cv2.inRange(image, lower, upper)\n",
        "  # cv2_imshow( mask)\n",
        "\n",
        "  contours, hierarchy = cv2.findContours(mask,cv2.RETR_EXTERNAL, cv2.CHAIN_APPROX_NONE)\n",
        "  contours=[cnt for cnt in contours if cv2.contourArea(cnt)>120]\n",
        "\n",
        "  # result=image_data[0].copy()\n",
        "  for cntr in contours:\n",
        "      x,y,w,h = cv2.boundingRect(cntr)\n",
        "      xmin,ymin,xmax,ymax = x,y,x+w,y+h\n",
        "      cv2.rectangle(result, (x, y), (x+w, y+h), (0,0,0), 2)\n",
        "      pred_boxes.append([xmin,ymin,xmax,ymax])\n",
        "  # cv2_imshow(result)\n",
        "  return pred_boxes\n",
        "\n",
        "\n",
        "def get_ground_box(image_data):\n",
        "  result = sqldf(\"select xmin,ymin,xmax,ymax from df where image='{}'\".format(image_data[1]))\n",
        "  ground_boxes=result.values.tolist()\n",
        "  return ground_boxes"
      ],
      "metadata": {
        "id": "E_w8L8GxKpww"
      },
      "execution_count": null,
      "outputs": []
    },
    {
      "cell_type": "code",
      "source": [],
      "metadata": {
        "id": "A0W1EAVDRL7V"
      },
      "execution_count": null,
      "outputs": []
    },
    {
      "cell_type": "markdown",
      "source": [
        "# MultiBox IOU Implementation"
      ],
      "metadata": {
        "id": "ed1fCZqp9L7z"
      }
    },
    {
      "cell_type": "code",
      "source": [
        "def calcIOU(ground_boxes,pred_boxes,image=[1,2,3]):\n",
        "  img1 = np.zeros((240,320,3), dtype = np.uint8)\n",
        "  img2 = np.zeros((240,320,3), dtype = np.uint8)\n",
        "\n",
        "  for x1,y1,x2,y2 in ground_boxes:\n",
        "    ground = cv2.rectangle(img1, (int(x1), int(y1)), (int(x2), int(y2)), (255, 255, 255), -1)\n",
        "\n",
        "  for x1,y1,x2,y2 in pred_boxes:\n",
        "    pred = cv2.rectangle(img2, (int(x1), int(y1)), (int(x2), int(y2)), (255, 255, 255), -1)\n",
        "\n",
        "  # print('\\n~~~~~~~~~~~~~~~~  GROUND  ~~~~~~~~~~~~~~~~\\n')\n",
        "  # cv2_imshow(ground)\n",
        "  # print('\\n~~~~~~~~~~~~~~  PREDICTED  ~~~~~~~~~~~~~~~\\n')\n",
        "  # cv2_imshow(pred)\n",
        "  union = cv2.bitwise_or(ground,pred)\n",
        "  intersection = cv2.bitwise_and(ground,pred)\n",
        "\n",
        "  img_gray = cv2.cvtColor(union, cv2.COLOR_BGR2GRAY)\n",
        "  contours, hierarchy = cv2.findContours(image=img_gray, mode=cv2.RETR_TREE, method=cv2.CHAIN_APPROX_NONE)\n",
        "  union_copy = union.copy()\n",
        "  cv2.drawContours(image=union_copy, contours=contours, contourIdx=-1, color=(0, 255, 0), thickness=1, lineType=cv2.LINE_AA)\n",
        "  union_area = sum([cv2.contourArea(contour) for contour in contours])\n",
        "  # print('\\n~~~~~~~~~~~~~~~~  UNION  ~~~~~~~~~~~~~~~~\\n')\n",
        "  # cv2_imshow(union_copy)\n",
        "\n",
        "  img_gray = cv2.cvtColor(intersection, cv2.COLOR_BGR2GRAY)\n",
        "  contours, hierarchy = cv2.findContours(image=img_gray, mode=cv2.RETR_TREE, method=cv2.CHAIN_APPROX_NONE)\n",
        "  intersection_copy = intersection.copy()\n",
        "  cv2.drawContours(image=intersection_copy, contours=contours, contourIdx=-1, color=(0, 255, 0), thickness=1, lineType=cv2.LINE_AA)\n",
        "  intersection_area = sum([cv2.contourArea(contour) for contour in contours])\n",
        "  # print('\\n~~~~~~~~~~~~~  INTERSECTION  ~~~~~~~~~~~~~\\n')\n",
        "  # cv2_imshow(intersection_copy)\n",
        "\n",
        "  # print('\\n~~~~~~~~~~~~~~~~~~~~~~~~~~~~~~~~~~~~~~~~~~\\n')\n",
        "  # print('Intersection Area:',intersection_area)\n",
        "  # print('Union Area:',union_area)\n",
        "  IOU = round(intersection_area/union_area,5)\n",
        "  # print('IOU Score: ',IOU)\n",
        "  return [intersection_area,union_area,IOU,image[1],image[2]]"
      ],
      "metadata": {
        "id": "J1in6owEkUlI"
      },
      "execution_count": null,
      "outputs": []
    },
    {
      "cell_type": "code",
      "source": [
        "ground_boxes = [[29.01960784, 128.2352941, 297.254902, 153.3333333],[278.0392157, 163.1372549, 312.5490196, 183.5294118]]\n",
        "pred_boxes = [[32.01960784, 128.2352941, 295.254902, 150.3333333],[278.0392157, 163.1372549, 312.5490196, 183.5294118]]\n",
        "calcIOU(ground_boxes,pred_boxes)"
      ],
      "metadata": {
        "colab": {
          "base_uri": "https://localhost:8080/"
        },
        "id": "NzEPG8935a_k",
        "outputId": "126d7a4b-8d5a-4a35-e124-821ba4502f70"
      },
      "execution_count": null,
      "outputs": [
        {
          "output_type": "execute_result",
          "data": {
            "text/plain": [
              "[6466.0, 7380.0, 0.87615, 2, 3]"
            ]
          },
          "metadata": {},
          "execution_count": 8
        }
      ]
    },
    {
      "cell_type": "code",
      "source": [
        "iou_map = []\n",
        "for image in image_data:\n",
        "  try:\n",
        "    ground_boxes = get_ground_box(image)\n",
        "    pred_boxes = get_pred_box(image)\n",
        "    data=calcIOU(ground_boxes,pred_boxes,image)\n",
        "    iou_map.append(data)\n",
        "  except Exception as e:\n",
        "    print(image[1:],ground_boxes,pred_boxes)\n",
        "    pass"
      ],
      "metadata": {
        "id": "_0jvGIHsSWB0"
      },
      "execution_count": null,
      "outputs": []
    },
    {
      "cell_type": "code",
      "source": [
        "iou_map_df = pd.DataFrame(iou_map, columns=['intersection_area','union_area','IOU','name','label'])\n",
        "average_label_iou = iou_map_df.groupby('label')['IOU'].mean()\n",
        "average_iou = iou_map_df['IOU'].mean()\n",
        "\n",
        "print(f'Average IOU: {average_iou}\\n')\n",
        "print(average_label_iou)"
      ],
      "metadata": {
        "colab": {
          "base_uri": "https://localhost:8080/"
        },
        "id": "uSCrZs1cUuPh",
        "outputId": "8562c9e6-f39b-4cfb-9a37-fd1115b68b9d"
      },
      "execution_count": null,
      "outputs": [
        {
          "output_type": "stream",
          "name": "stdout",
          "text": [
            "Average IOU: 0.36930981308411215\n",
            "\n",
            "label\n",
            "PID_thermal       0.296024\n",
            "diode_thermal     0.377565\n",
            "dust_thermal      0.069382\n",
            "multi_thermal     0.336140\n",
            "single_thermal    0.436797\n",
            "Name: IOU, dtype: float64\n"
          ]
        }
      ]
    },
    {
      "cell_type": "markdown",
      "source": [
        "## TEST"
      ],
      "metadata": {
        "id": "YzSpGmGrYuMT"
      }
    },
    {
      "cell_type": "code",
      "source": [
        "#replace FLIR with avg of surroundings\n",
        "def get_pred_boxes1(image1,result1):\n",
        "  pred_boxes=[]\n",
        "  image=image1[0]\n",
        "  result=result1[0]\n",
        "  x, y, w, h = 306,29,9,19\n",
        "  roi = image[y:y+h, x:x+w].copy()\n",
        "  mask = np.zeros_like(image[y:y+h, x:x+w])\n",
        "  image[y:y+h, x:x+w] = mask\n",
        "  roi[0, :] = [255, 255, 255]\n",
        "  roi[-1, :] = [255, 255, 255]\n",
        "  roi[:, 0] = [255, 255, 255]\n",
        "  roi[:, -1] = [255, 255, 255]\n",
        "  xywh_list = [[5,5,71,19],[227,5,39,18],[279,215,37,20]]\n",
        "  for x,y,w,h in xywh_list:\n",
        "    image[y:y+h, x:x+w][np.all(image[y:y+h, x:x+w] > [230, 230, 230], axis=-1)] = [0, 0, 0]\n",
        "\n",
        "  x,y,w,h =4,219,52,18\n",
        "  region = image[y:y+h, x:x+w]\n",
        "  mean_pixel_value = region[np.any(region<[220,220,220], axis=-1)].mean(axis=0)\n",
        "  region[np.all(region>[220,220,220], axis=-1)] = mean_pixel_value\n",
        "\n",
        "\n",
        "  min_pixel = np.array(roi.min(axis=(0, 1)))\n",
        "  max_pixel = np.array(roi.max(axis=(0, 1)))\n",
        "\n",
        "  print(min_pixel,max_pixel)\n",
        "\n",
        "\n",
        "  image=cv2.blur(image,(7,7))\n",
        "  mask = cv2.inRange(image, min_pixel, max_pixel)\n",
        "  # cv2_imshow(mask)\n",
        "\n",
        "\n",
        "  contours, hierarchy = cv2.findContours(mask,cv2.RETR_EXTERNAL, cv2.CHAIN_APPROX_NONE)\n",
        "  contours=[cnt for cnt in contours if cv2.contourArea(cnt)>50]\n",
        "  # cv2_imshow(cv2.drawContours(image, contours, -1, (0,255,0), 2))\n",
        "  print(len(contours))\n",
        "\n",
        "\n",
        "  for cntr in contours:\n",
        "      x,y,w,h = cv2.boundingRect(cntr)\n",
        "      xmin,ymin,xmax,ymax = x,y,x+w,y+h\n",
        "      cv2.rectangle(result, (x, y), (x+w, y+h), (0,0,0), 2)\n",
        "      pred_boxes.append([xmin,ymin,xmax,ymax])\n",
        "\n",
        "  return pred_boxes\n",
        "  # cv2_imshow(result)"
      ],
      "metadata": {
        "id": "Z8hu6DdbZV2F"
      },
      "execution_count": null,
      "outputs": []
    },
    {
      "cell_type": "code",
      "source": [
        "image_data = load_images_from_folder(r'/content/drive/MyDrive/KJSCE/LY/DL/ProjectData/ORIGINAL_CLEANED/multi_thermal')\n",
        "iou_map = []\n",
        "for image in image_data:\n",
        "  try:\n",
        "    ground_boxes = get_ground_box(image)\n",
        "    pred_boxes = get_pred_boxes1(image,image)\n",
        "    data=calcIOU(ground_boxes,pred_boxes,image)\n",
        "    iou_map.append(data)\n",
        "  except Exception as e:\n",
        "    print(e)\n",
        "    print(image[1:],ground_boxes,pred_boxes)\n",
        "    pass"
      ],
      "metadata": {
        "id": "y591GlZkYtx6"
      },
      "execution_count": null,
      "outputs": []
    },
    {
      "cell_type": "code",
      "source": [
        "iou_map_df = pd.DataFrame(iou_map, columns=['intersection_area','union_area','IOU','name','label'])\n",
        "average_label_iou = iou_map_df.groupby('label')['IOU'].mean()\n",
        "# average_iou = iou_map_df['IOU'].mean()\n",
        "\n",
        "# print(f'Average IOU: {average_iou}\\n')\n",
        "print(average_label_iou)"
      ],
      "metadata": {
        "colab": {
          "base_uri": "https://localhost:8080/"
        },
        "id": "5cdwJneXZac_",
        "outputId": "9594bd5b-7aec-418f-d911-809d28ed6baf"
      },
      "execution_count": null,
      "outputs": [
        {
          "output_type": "stream",
          "name": "stdout",
          "text": [
            "label\n",
            "multi_thermal    0.193492\n",
            "Name: IOU, dtype: float64\n"
          ]
        }
      ]
    },
    {
      "cell_type": "markdown",
      "source": [
        "# SINGLE BOX IOU"
      ],
      "metadata": {
        "id": "59KxbIow7n1N"
      }
    },
    {
      "cell_type": "code",
      "source": [
        "box1 = 270.0392157,140.8235294,305.4509804,163.6078431\n",
        "box2 = 272.0392157,145.8235294,305.4509804,163.6078431"
      ],
      "metadata": {
        "id": "wGvitMnpsv6f"
      },
      "execution_count": null,
      "outputs": []
    },
    {
      "cell_type": "code",
      "source": [
        "x1, y1, x2, y2 = box1\n",
        "x3, y3, x4, y4 = box2\n",
        "x_inter1 = int(max(x1, x3))\n",
        "y_inter1 = int(max(y1, y3))\n",
        "x_inter2 = int(min(x2, x4))\n",
        "y_inter2 = int(min(y2, y4))\n",
        "width_inter = abs(x_inter2 - x_inter1)\n",
        "height_inter = abs(y_inter2 - y_inter1)\n",
        "area_inter = width_inter*height_inter\n",
        "width_box1 = abs(x2-x1)\n",
        "height_box1 = abs(y2 - y1)\n",
        "width_box2 = abs(x4 - x3)\n",
        "height_box2 = abs(y4 - y3)\n",
        "area_box1 = width_box1*height_box1\n",
        "area_box2 = width_box2*height_box2\n",
        "area_union = area_box1 + area_box2 - area_inter\n",
        "iou = area_inter / area_union\n",
        "print(round(iou,5))"
      ],
      "metadata": {
        "id": "4BI3In6VrlHH",
        "colab": {
          "base_uri": "https://localhost:8080/"
        },
        "outputId": "0f335e02-7f33-4336-dd36-c46626ed64ed"
      },
      "execution_count": null,
      "outputs": [
        {
          "output_type": "stream",
          "name": "stdout",
          "text": [
            "0.73602\n"
          ]
        }
      ]
    },
    {
      "cell_type": "code",
      "source": [
        "print(area_inter)"
      ],
      "metadata": {
        "colab": {
          "base_uri": "https://localhost:8080/"
        },
        "id": "0Sqevl9kdyDq",
        "outputId": "9072a65d-a8be-4af6-83fd-8b145759cd5c"
      },
      "execution_count": null,
      "outputs": [
        {
          "output_type": "stream",
          "name": "stdout",
          "text": [
            "594\n"
          ]
        }
      ]
    },
    {
      "cell_type": "code",
      "source": [
        "print(area_union)"
      ],
      "metadata": {
        "colab": {
          "base_uri": "https://localhost:8080/"
        },
        "id": "vTiClILpd4FI",
        "outputId": "ec272915-6d09-48e5-85a9-63064cb661ca"
      },
      "execution_count": null,
      "outputs": [
        {
          "output_type": "stream",
          "name": "stdout",
          "text": [
            "807.0380602907712\n"
          ]
        }
      ]
    },
    {
      "cell_type": "code",
      "source": [],
      "metadata": {
        "id": "DSYN4ZJPd7W5"
      },
      "execution_count": null,
      "outputs": []
    }
  ]
}