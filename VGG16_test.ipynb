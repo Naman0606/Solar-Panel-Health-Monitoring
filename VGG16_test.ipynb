{
  "nbformat": 4,
  "nbformat_minor": 0,
  "metadata": {
    "colab": {
      "provenance": [],
      "gpuType": "T4"
    },
    "kernelspec": {
      "name": "python3",
      "display_name": "Python 3"
    },
    "language_info": {
      "name": "python"
    },
    "accelerator": "GPU",
    "gpuClass": "standard"
  },
  "cells": [
    {
      "cell_type": "code",
      "execution_count": null,
      "metadata": {
        "id": "I5Px8aTm6wNO"
      },
      "outputs": [],
      "source": [
        "from __future__ import print_function\n",
        "\n",
        "import numpy as np\n",
        "import warnings\n",
        "\n",
        "from keras.models import Model\n",
        "from keras.layers import Flatten\n",
        "from keras.layers import Dense\n",
        "from keras.layers import Input\n",
        "from keras.layers import Conv2D\n",
        "from keras.layers import MaxPooling2D\n",
        "from keras.layers import GlobalMaxPooling2D\n",
        "from keras.layers import GlobalAveragePooling2D\n",
        "from keras.preprocessing import image\n",
        "from keras.utils import layer_utils\n",
        "from keras.utils.data_utils import get_file\n",
        "from keras import backend as K\n",
        "from keras.applications.imagenet_utils import decode_predictions\n",
        "from keras.applications.imagenet_utils import preprocess_input\n",
        "import tensorflow as tf"
      ]
    },
    {
      "cell_type": "code",
      "source": [
        "def VGGupdated(input_tensor=None,classes=5):\n",
        "\n",
        "    img_rows, img_cols = 300, 300   # by default size is 224,224\n",
        "    img_channels = 3\n",
        "\n",
        "    img_dim = (img_rows, img_cols, img_channels)\n",
        "\n",
        "    img_input = Input(shape=img_dim)\n",
        "\n",
        "    # Block 1\n",
        "    x = Conv2D(64, (3, 3), activation='relu', padding='same', name='block1_conv1')(img_input)\n",
        "    x = Conv2D(64, (3, 3), activation='relu', padding='same', name='block1_conv2')(x)\n",
        "    x = MaxPooling2D((2, 2), strides=(2, 2), name='block1_pool')(x)\n",
        "\n",
        "    # Block 2\n",
        "    x = Conv2D(128, (3, 3), activation='relu', padding='same', name='block2_conv1')(x)\n",
        "    x = Conv2D(128, (3, 3), activation='relu', padding='same', name='block2_conv2')(x)\n",
        "    x = MaxPooling2D((2, 2), strides=(2, 2), name='block2_pool')(x)\n",
        "\n",
        "    # Block 3\n",
        "    x = Conv2D(256, (3, 3), activation='relu', padding='same', name='block3_conv1')(x)\n",
        "    x = Conv2D(256, (3, 3), activation='relu', padding='same', name='block3_conv2')(x)\n",
        "    x = Conv2D(256, (3, 3), activation='relu', padding='same', name='block3_conv3')(x)\n",
        "    x = MaxPooling2D((2, 2), strides=(2, 2), name='block3_pool')(x)\n",
        "\n",
        "    # Block 4\n",
        "    x = Conv2D(512, (3, 3), activation='relu', padding='same', name='block4_conv1')(x)\n",
        "    x = Conv2D(512, (3, 3), activation='relu', padding='same', name='block4_conv2')(x)\n",
        "    x = Conv2D(512, (3, 3), activation='relu', padding='same', name='block4_conv3')(x)\n",
        "    x = MaxPooling2D((2, 2), strides=(2, 2), name='block4_pool')(x)\n",
        "\n",
        "    # Block 5\n",
        "    x = Conv2D(512, (3, 3), activation='relu', padding='same', name='block5_conv1')(x)\n",
        "    x = Conv2D(512, (3, 3), activation='relu', padding='same', name='block5_conv2')(x)\n",
        "    x = Conv2D(512, (3, 3), activation='relu', padding='same', name='block5_conv3')(x)\n",
        "    x = MaxPooling2D((2, 2), strides=(2, 2), name='block5_pool')(x)\n",
        "\n",
        "\n",
        "    # Classification block\n",
        "    x = Flatten(name='flatten')(x)\n",
        "    x = Dense(4096, activation='relu', name='fc1')(x)\n",
        "    x = Dense(4096, activation='relu', name='fc2')(x)\n",
        "    x = Dense(classes, activation='softmax', name='predictions')(x)\n",
        "\n",
        "    # Create model.\n",
        "\n",
        "\n",
        "    model = Model(inputs = img_input, outputs = x, name='VGGdemo')\n",
        "\n",
        "\n",
        "    return model"
      ],
      "metadata": {
        "id": "WVTwxFS_tyJc"
      },
      "execution_count": null,
      "outputs": []
    },
    {
      "cell_type": "code",
      "source": [
        "model = VGGupdated(classes = 5)"
      ],
      "metadata": {
        "id": "ORCgJF1Nt2vv"
      },
      "execution_count": null,
      "outputs": []
    },
    {
      "cell_type": "code",
      "source": [
        "model.compile(optimizer=tf.keras.optimizers.Adam(learning_rate=0.001), loss='categorical_crossentropy', metrics=['accuracy'])"
      ],
      "metadata": {
        "id": "jbFcG8pBt66d"
      },
      "execution_count": null,
      "outputs": []
    },
    {
      "cell_type": "code",
      "source": [
        "import numpy as np\n",
        "import pandas as pd\n",
        "import matplotlib.pyplot as plt\n",
        "import os\n",
        "\n",
        "dataset_path = '/content/drive/MyDrive/Final year project 22-23/augmented_dataset/'\n",
        "\n",
        "types = os.listdir('/content/drive/MyDrive/Final year project 22-23/augmented_dataset')\n",
        "types.remove('output')\n",
        "print(types)  #what kinds of rooms are in this dataset\n",
        "\n",
        "print(\"Types of faults found: \", len(types))"
      ],
      "metadata": {
        "colab": {
          "base_uri": "https://localhost:8080/"
        },
        "id": "YFidP_bJt9nZ",
        "outputId": "84633c3e-65eb-44d1-df78-32bee7c2c363"
      },
      "execution_count": null,
      "outputs": [
        {
          "output_type": "stream",
          "name": "stdout",
          "text": [
            "['single_thermal', 'multi_thermal', 'dust_thermal', 'diode_thermal', 'pid_thermal']\n",
            "Types of faults found:  5\n"
          ]
        }
      ]
    },
    {
      "cell_type": "code",
      "source": [
        "faults = []\n",
        "\n",
        "for item in types:\n",
        " # Get all the file names\n",
        " all_types = os.listdir(dataset_path+item)\n",
        "\n",
        " # Add them to the list\n",
        " for fault in all_types:\n",
        "  faults.append((item, dataset_path + item + '/' + fault))"
      ],
      "metadata": {
        "id": "7ynUbroMugnz"
      },
      "execution_count": null,
      "outputs": []
    },
    {
      "cell_type": "code",
      "source": [
        "print(len(faults))"
      ],
      "metadata": {
        "colab": {
          "base_uri": "https://localhost:8080/"
        },
        "id": "0UmGy3-Vvxri",
        "outputId": "cf7c29fd-f95b-473d-8f39-ac181866620b"
      },
      "execution_count": null,
      "outputs": [
        {
          "output_type": "stream",
          "name": "stdout",
          "text": [
            "1585\n"
          ]
        }
      ]
    },
    {
      "cell_type": "code",
      "source": [
        "df = pd.DataFrame(data=faults, columns=['type', 'image'])\n",
        "print(df.head())"
      ],
      "metadata": {
        "colab": {
          "base_uri": "https://localhost:8080/"
        },
        "id": "0FlZnU2Vv09Y",
        "outputId": "1a7172b1-417a-4a3c-ad21-520016320e2a"
      },
      "execution_count": null,
      "outputs": [
        {
          "output_type": "stream",
          "name": "stdout",
          "text": [
            "             type                                              image\n",
            "0  single_thermal  /content/drive/MyDrive/Final year project 22-2...\n",
            "1  single_thermal  /content/drive/MyDrive/Final year project 22-2...\n",
            "2  single_thermal  /content/drive/MyDrive/Final year project 22-2...\n",
            "3  single_thermal  /content/drive/MyDrive/Final year project 22-2...\n",
            "4  single_thermal  /content/drive/MyDrive/Final year project 22-2...\n"
          ]
        }
      ]
    },
    {
      "cell_type": "code",
      "source": [
        "print(\"Total number of faults in the dataset: \", len(df))\n",
        "\n",
        "count = df['type'].value_counts()\n",
        "\n",
        "print(\"Faults in each category: \")\n",
        "print(count)"
      ],
      "metadata": {
        "colab": {
          "base_uri": "https://localhost:8080/"
        },
        "id": "rzs8ltzZv70W",
        "outputId": "1cef3023-955e-4eb2-c68b-fd55d65fbe0b"
      },
      "execution_count": null,
      "outputs": [
        {
          "output_type": "stream",
          "name": "stdout",
          "text": [
            "Total number of faults in the dataset:  1585\n",
            "Faults in each category: \n",
            "single_thermal    500\n",
            "pid_thermal       350\n",
            "multi_thermal     299\n",
            "diode_thermal     280\n",
            "dust_thermal      156\n",
            "Name: type, dtype: int64\n"
          ]
        }
      ]
    },
    {
      "cell_type": "code",
      "source": [
        "import cv2\n",
        "\n",
        "im_size = 300\n",
        "\n",
        "images = []\n",
        "labels = []\n",
        "\n",
        "for _,i in df.iterrows():\n",
        "  img = cv2.imread(i['image'])\n",
        "  img = cv2.resize(img, (im_size, im_size))\n",
        "  images.append(img)\n",
        "  labels.append(i['type'])\n",
        "\n",
        "# for i in types:\n",
        "#     data_path = dataset_path + i\n",
        "#     filenames = [x for x in os.listdir(data_path) ]\n",
        "\n",
        "#     for f in filenames:\n",
        "#         img = cv2.imread(data_path + '/' + f)\n",
        "#         img = cv2.resize(img, (im_size, im_size))\n",
        "#         images.append(img)\n",
        "#         labels.append(i)"
      ],
      "metadata": {
        "id": "B6pFWtZ0wPJH"
      },
      "execution_count": null,
      "outputs": []
    },
    {
      "cell_type": "code",
      "source": [
        "images = np.array(images)\n",
        "\n",
        "images = images.astype('float32') / 255.0\n",
        "images.shape"
      ],
      "metadata": {
        "colab": {
          "base_uri": "https://localhost:8080/"
        },
        "id": "icSPuvNxyfx6",
        "outputId": "6d87b343-7f52-4af2-8725-70e6ea0cb890"
      },
      "execution_count": null,
      "outputs": [
        {
          "output_type": "execute_result",
          "data": {
            "text/plain": [
              "(1585, 300, 300, 3)"
            ]
          },
          "metadata": {},
          "execution_count": 11
        }
      ]
    },
    {
      "cell_type": "code",
      "source": [
        "from sklearn.preprocessing import LabelEncoder , OneHotEncoder\n",
        "y=df['type'].values\n",
        "\n",
        "y_labelencoder = LabelEncoder ()\n",
        "y = y_labelencoder.fit_transform (y)"
      ],
      "metadata": {
        "id": "B-axOpFezAyq"
      },
      "execution_count": null,
      "outputs": []
    },
    {
      "cell_type": "code",
      "source": [
        "# y=y.reshape(-1,1)\n",
        "# onehotencoder = OneHotEncoder(categorical_features=[4])\n",
        "# Y= onehotencoder.fit_transform(y)\n",
        "# Y.shape\n",
        "y=y.reshape(-1,1)\n",
        "from sklearn.compose import ColumnTransformer\n",
        "from sklearn.preprocessing import OneHotEncoder\n",
        "ct = ColumnTransformer([('my_ohe', OneHotEncoder(), [0])], remainder='passthrough')\n",
        "Y = ct.fit_transform(y) #.toarray()\n",
        "Y.shape"
      ],
      "metadata": {
        "colab": {
          "base_uri": "https://localhost:8080/"
        },
        "id": "u0RJcWuK0zTb",
        "outputId": "58b5571e-0193-400c-8a8a-b562a9e426e0"
      },
      "execution_count": null,
      "outputs": [
        {
          "output_type": "execute_result",
          "data": {
            "text/plain": [
              "(1585, 5)"
            ]
          },
          "metadata": {},
          "execution_count": 29
        }
      ]
    },
    {
      "cell_type": "code",
      "source": [
        "from sklearn.utils import shuffle\n",
        "from sklearn.model_selection import train_test_split\n",
        "\n",
        "\n",
        "images, Y = shuffle(images, Y, random_state=1)\n",
        "\n",
        "train_x, test_x, train_y, test_y = train_test_split(images, Y, test_size=0.25, random_state=415)\n",
        "\n",
        "#inpect the shape of the training and testing.\n",
        "print(train_x.shape)\n",
        "print(train_y.shape)\n",
        "print(test_x.shape)\n",
        "print(test_y.shape)"
      ],
      "metadata": {
        "colab": {
          "base_uri": "https://localhost:8080/"
        },
        "id": "_2Gtai6k02xe",
        "outputId": "69bca521-3af4-4488-a5d9-a425942616d0"
      },
      "execution_count": null,
      "outputs": [
        {
          "output_type": "stream",
          "name": "stdout",
          "text": [
            "(1188, 300, 300, 3)\n",
            "(1188, 5)\n",
            "(397, 300, 300, 3)\n",
            "(397, 5)\n"
          ]
        }
      ]
    },
    {
      "cell_type": "code",
      "source": [
        "train_y_dense = tf.sparse.to_dense(train_y)\n",
        "model.fit(train_x, train_y_dense, epochs = 100, batch_size = 32)"
      ],
      "metadata": {
        "colab": {
          "base_uri": "https://localhost:8080/",
          "height": 329
        },
        "id": "ZRZ8PF7J0-Vd",
        "outputId": "190bba4b-4b29-4726-9659-c82e06a36c73"
      },
      "execution_count": null,
      "outputs": [
        {
          "output_type": "error",
          "ename": "TypeError",
          "evalue": "ignored",
          "traceback": [
            "\u001b[0;31m---------------------------------------------------------------------------\u001b[0m",
            "\u001b[0;31mTypeError\u001b[0m                                 Traceback (most recent call last)",
            "\u001b[0;32m<ipython-input-32-4394c5777e0c>\u001b[0m in \u001b[0;36m<cell line: 1>\u001b[0;34m()\u001b[0m\n\u001b[0;32m----> 1\u001b[0;31m \u001b[0mtrain_y_dense\u001b[0m \u001b[0;34m=\u001b[0m \u001b[0mtf\u001b[0m\u001b[0;34m.\u001b[0m\u001b[0msparse\u001b[0m\u001b[0;34m.\u001b[0m\u001b[0mto_dense\u001b[0m\u001b[0;34m(\u001b[0m\u001b[0mtrain_y\u001b[0m\u001b[0;34m)\u001b[0m\u001b[0;34m\u001b[0m\u001b[0;34m\u001b[0m\u001b[0m\n\u001b[0m\u001b[1;32m      2\u001b[0m \u001b[0mmodel\u001b[0m\u001b[0;34m.\u001b[0m\u001b[0mfit\u001b[0m\u001b[0;34m(\u001b[0m\u001b[0mtrain_x\u001b[0m\u001b[0;34m,\u001b[0m \u001b[0mtrain_y_dense\u001b[0m\u001b[0;34m,\u001b[0m \u001b[0mepochs\u001b[0m \u001b[0;34m=\u001b[0m \u001b[0;36m100\u001b[0m\u001b[0;34m,\u001b[0m \u001b[0mbatch_size\u001b[0m \u001b[0;34m=\u001b[0m \u001b[0;36m32\u001b[0m\u001b[0;34m)\u001b[0m\u001b[0;34m\u001b[0m\u001b[0;34m\u001b[0m\u001b[0m\n",
            "\u001b[0;32m/usr/local/lib/python3.10/dist-packages/tensorflow/python/ops/sparse_ops.py\u001b[0m in \u001b[0;36msparse_tensor_to_dense\u001b[0;34m(sp_input, default_value, validate_indices, name)\u001b[0m\n\u001b[1;32m   1710\u001b[0m     \u001b[0mTypeError\u001b[0m\u001b[0;34m:\u001b[0m \u001b[0mIf\u001b[0m\u001b[0;31m \u001b[0m\u001b[0;31m`\u001b[0m\u001b[0msp_input\u001b[0m\u001b[0;31m`\u001b[0m \u001b[0;32mis\u001b[0m \u001b[0;32mnot\u001b[0m \u001b[0ma\u001b[0m\u001b[0;31m \u001b[0m\u001b[0;31m`\u001b[0m\u001b[0mSparseTensor\u001b[0m\u001b[0;31m`\u001b[0m\u001b[0;34m.\u001b[0m\u001b[0;34m\u001b[0m\u001b[0;34m\u001b[0m\u001b[0m\n\u001b[1;32m   1711\u001b[0m   \"\"\"\n\u001b[0;32m-> 1712\u001b[0;31m   \u001b[0msp_input\u001b[0m \u001b[0;34m=\u001b[0m \u001b[0m_convert_to_sparse_tensor\u001b[0m\u001b[0;34m(\u001b[0m\u001b[0msp_input\u001b[0m\u001b[0;34m)\u001b[0m\u001b[0;34m\u001b[0m\u001b[0;34m\u001b[0m\u001b[0m\n\u001b[0m\u001b[1;32m   1713\u001b[0m   \u001b[0;32mif\u001b[0m \u001b[0mdefault_value\u001b[0m \u001b[0;32mis\u001b[0m \u001b[0;32mNone\u001b[0m\u001b[0;34m:\u001b[0m\u001b[0;34m\u001b[0m\u001b[0;34m\u001b[0m\u001b[0m\n\u001b[1;32m   1714\u001b[0m     \u001b[0mdefault_value\u001b[0m \u001b[0;34m=\u001b[0m \u001b[0marray_ops\u001b[0m\u001b[0;34m.\u001b[0m\u001b[0mzeros\u001b[0m\u001b[0;34m(\u001b[0m\u001b[0;34m[\u001b[0m\u001b[0;34m]\u001b[0m\u001b[0;34m,\u001b[0m \u001b[0mdtype\u001b[0m\u001b[0;34m=\u001b[0m\u001b[0msp_input\u001b[0m\u001b[0;34m.\u001b[0m\u001b[0mdtype\u001b[0m\u001b[0;34m)\u001b[0m\u001b[0;34m\u001b[0m\u001b[0;34m\u001b[0m\u001b[0m\n",
            "\u001b[0;32m/usr/local/lib/python3.10/dist-packages/tensorflow/python/ops/sparse_ops.py\u001b[0m in \u001b[0;36m_convert_to_sparse_tensor\u001b[0;34m(sp_input)\u001b[0m\n\u001b[1;32m     65\u001b[0m     \u001b[0;32mreturn\u001b[0m \u001b[0msparse_tensor\u001b[0m\u001b[0;34m.\u001b[0m\u001b[0mSparseTensor\u001b[0m\u001b[0;34m.\u001b[0m\u001b[0mfrom_value\u001b[0m\u001b[0;34m(\u001b[0m\u001b[0msp_input\u001b[0m\u001b[0;34m)\u001b[0m\u001b[0;34m\u001b[0m\u001b[0;34m\u001b[0m\u001b[0m\n\u001b[1;32m     66\u001b[0m   \u001b[0;32mif\u001b[0m \u001b[0;32mnot\u001b[0m \u001b[0misinstance\u001b[0m\u001b[0;34m(\u001b[0m\u001b[0msp_input\u001b[0m\u001b[0;34m,\u001b[0m \u001b[0msparse_tensor\u001b[0m\u001b[0;34m.\u001b[0m\u001b[0mSparseTensor\u001b[0m\u001b[0;34m)\u001b[0m\u001b[0;34m:\u001b[0m\u001b[0;34m\u001b[0m\u001b[0;34m\u001b[0m\u001b[0m\n\u001b[0;32m---> 67\u001b[0;31m     \u001b[0;32mraise\u001b[0m \u001b[0mTypeError\u001b[0m\u001b[0;34m(\u001b[0m\u001b[0;34m\"Input must be a SparseTensor.\"\u001b[0m\u001b[0;34m)\u001b[0m\u001b[0;34m\u001b[0m\u001b[0;34m\u001b[0m\u001b[0m\n\u001b[0m\u001b[1;32m     68\u001b[0m   \u001b[0;32mreturn\u001b[0m \u001b[0msp_input\u001b[0m\u001b[0;34m\u001b[0m\u001b[0;34m\u001b[0m\u001b[0m\n\u001b[1;32m     69\u001b[0m \u001b[0;34m\u001b[0m\u001b[0m\n",
            "\u001b[0;31mTypeError\u001b[0m: Input must be a SparseTensor."
          ]
        }
      ]
    },
    {
      "cell_type": "code",
      "source": [
        "preds = model.evaluate(test_x, test_y)\n",
        "print (\"Loss = \" + str(preds[0]))\n",
        "print (\"Test Accuracy = \" + str(preds[1]))"
      ],
      "metadata": {
        "id": "IbYXK_P61JOI"
      },
      "execution_count": null,
      "outputs": []
    },
    {
      "cell_type": "code",
      "source": [
        "path='/content/drive/MyDrive/Final year project 22-23/augmented_dataset/'\n",
        "for i in os.listdir(path):\n",
        "  if i=='output':\n",
        "    continue\n",
        "  for x in os.listdir(path+i):\n",
        ""
      ],
      "metadata": {
        "id": "ZYKyChqrJF9b"
      },
      "execution_count": null,
      "outputs": []
    },
    {
      "cell_type": "markdown",
      "source": [
        "NEW TYPE OF VGG16"
      ],
      "metadata": {
        "id": "poLbc_OsNyQy"
      }
    },
    {
      "cell_type": "code",
      "source": [
        "import numpy as np\n",
        "import pandas as pd\n",
        "import keras\n",
        "from keras.layers import Input, Dense, Flatten\n",
        "from keras.models import Model\n",
        "from keras.optimizers import Adam, RMSprop\n",
        "from keras.preprocessing.image import ImageDataGenerator\n",
        "from keras.applications.vgg16 import VGG16\n",
        "import matplotlib.pyplot as plt"
      ],
      "metadata": {
        "id": "7WC7trz5NxJW"
      },
      "execution_count": null,
      "outputs": []
    },
    {
      "cell_type": "code",
      "source": [
        "IMAGE_SIZE = [224, 224]\n",
        "BATCH_SIZE = 32\n",
        "TRAINING_DIR = '/content/drive/MyDrive/Final year project 22-23/augmented_dataset/output/train'\n",
        "VALIDATION_DIR = '/content/drive/MyDrive/Final year project 22-23/augmented_dataset/output/val'\n",
        "TEST_DIR = '/content/drive/MyDrive/Final year project 22-23/augmented_dataset/output/test'"
      ],
      "metadata": {
        "id": "yH5_UXrLN3qH"
      },
      "execution_count": null,
      "outputs": []
    },
    {
      "cell_type": "code",
      "source": [
        "train_datagen = ImageDataGenerator(rescale = 1./255,\n",
        "                                   rotation_range = 20,\n",
        "                                   width_shift_range = 0.2,\n",
        "                                   height_shift_range = 0.2,\n",
        "                                   horizontal_flip = True,\n",
        "                                   shear_range = 0.1,\n",
        "                                   zoom_range = 0.1,\n",
        "                                   fill_mode = 'nearest')\n",
        "\n",
        "train_x = train_datagen.flow_from_directory(TRAINING_DIR,\n",
        "                                            target_size = IMAGE_SIZE,\n",
        "                                            batch_size = BATCH_SIZE,\n",
        "                                            class_mode = 'categorical')\n",
        "\n",
        "val_datagen = ImageDataGenerator(rescale = 1./255)\n",
        "\n",
        "val_x = val_datagen.flow_from_directory(VALIDATION_DIR,\n",
        "                                         target_size = IMAGE_SIZE,\n",
        "                                         batch_size = BATCH_SIZE,\n",
        "                                         class_mode = 'categorical')\n",
        "\n",
        "test_datagen = ImageDataGenerator(rescale = 1./255)\n",
        "\n",
        "test_x = test_datagen.flow_from_directory(TEST_DIR,\n",
        "                                           target_size = IMAGE_SIZE,\n",
        "                                           batch_size = BATCH_SIZE,\n",
        "                                           class_mode = 'categorical')\n"
      ],
      "metadata": {
        "colab": {
          "base_uri": "https://localhost:8080/"
        },
        "id": "n4AVQn76ODuh",
        "outputId": "05172ebd-e37c-4aa9-fd63-1fe2f440fc8b"
      },
      "execution_count": null,
      "outputs": [
        {
          "output_type": "stream",
          "name": "stdout",
          "text": [
            "Found 1267 images belonging to 5 classes.\n",
            "Found 157 images belonging to 5 classes.\n",
            "Found 161 images belonging to 5 classes.\n"
          ]
        }
      ]
    },
    {
      "cell_type": "code",
      "source": [
        "vgg = VGG16(input_shape = IMAGE_SIZE + [3],\n",
        "            weights = 'imagenet',\n",
        "            include_top = False)"
      ],
      "metadata": {
        "id": "7IqOi7PcOJif"
      },
      "execution_count": null,
      "outputs": []
    },
    {
      "cell_type": "code",
      "source": [
        "for layer in vgg.layers:\n",
        "    layer.trainable = False"
      ],
      "metadata": {
        "id": "Xy1R6RLIORKg"
      },
      "execution_count": null,
      "outputs": []
    },
    {
      "cell_type": "code",
      "source": [
        "x = Flatten()(vgg.output)\n",
        "x = Dense(128, activation = 'relu')(x)\n",
        "prediction = Dense(5, activation = 'softmax')(x)"
      ],
      "metadata": {
        "id": "z3ETrE7wOSMg"
      },
      "execution_count": null,
      "outputs": []
    },
    {
      "cell_type": "code",
      "source": [
        "model = Model(inputs = vgg.input, outputs = prediction)"
      ],
      "metadata": {
        "id": "nWAISHkIOVss"
      },
      "execution_count": null,
      "outputs": []
    },
    {
      "cell_type": "code",
      "source": [
        "model.compile(loss = 'categorical_crossentropy',\n",
        "              optimizer = RMSprop(lr = 0.01),\n",
        "              metrics = ['accuracy'])"
      ],
      "metadata": {
        "id": "uRnZhKD2OZPR"
      },
      "execution_count": null,
      "outputs": []
    },
    {
      "cell_type": "code",
      "source": [
        "early_stopping_cb = keras.callbacks.EarlyStopping(patience=40,restore_best_weights=True)\n",
        "history=model.fit(train_x, validation_data=val_x, epochs = 100, batch_size = 32, callbacks=[early_stopping_cb])"
      ],
      "metadata": {
        "colab": {
          "base_uri": "https://localhost:8080/"
        },
        "id": "H2RZ5OpYOcDE",
        "outputId": "f7cf183c-268c-43e8-916c-f89470da9f37"
      },
      "execution_count": null,
      "outputs": [
        {
          "output_type": "stream",
          "name": "stdout",
          "text": [
            "Epoch 1/100\n",
            "40/40 [==============================] - 24s 561ms/step - loss: 27.0171 - accuracy: 0.3244 - val_loss: 2.5141 - val_accuracy: 0.3758\n",
            "Epoch 2/100\n",
            "40/40 [==============================] - 25s 617ms/step - loss: 1.8630 - accuracy: 0.4049 - val_loss: 5.7888 - val_accuracy: 0.3185\n",
            "Epoch 3/100\n",
            "40/40 [==============================] - 22s 560ms/step - loss: 1.6074 - accuracy: 0.4459 - val_loss: 1.2250 - val_accuracy: 0.4904\n",
            "Epoch 4/100\n",
            "40/40 [==============================] - 21s 524ms/step - loss: 1.2659 - accuracy: 0.4767 - val_loss: 1.4690 - val_accuracy: 0.3949\n",
            "Epoch 5/100\n",
            "40/40 [==============================] - 21s 535ms/step - loss: 1.5588 - accuracy: 0.4688 - val_loss: 1.2244 - val_accuracy: 0.5223\n",
            "Epoch 6/100\n",
            "40/40 [==============================] - 22s 553ms/step - loss: 1.2168 - accuracy: 0.4720 - val_loss: 1.2058 - val_accuracy: 0.4968\n",
            "Epoch 7/100\n",
            "40/40 [==============================] - 23s 575ms/step - loss: 1.8914 - accuracy: 0.4957 - val_loss: 1.1725 - val_accuracy: 0.5350\n",
            "Epoch 8/100\n",
            "40/40 [==============================] - 22s 543ms/step - loss: 1.1436 - accuracy: 0.5391 - val_loss: 1.2684 - val_accuracy: 0.3694\n",
            "Epoch 9/100\n",
            "40/40 [==============================] - 24s 589ms/step - loss: 1.1691 - accuracy: 0.5114 - val_loss: 1.2114 - val_accuracy: 0.5414\n",
            "Epoch 10/100\n",
            "40/40 [==============================] - 23s 579ms/step - loss: 1.1328 - accuracy: 0.5272 - val_loss: 1.2316 - val_accuracy: 0.5350\n",
            "Epoch 11/100\n",
            "40/40 [==============================] - 23s 567ms/step - loss: 1.1627 - accuracy: 0.5233 - val_loss: 1.1596 - val_accuracy: 0.5223\n",
            "Epoch 12/100\n",
            "40/40 [==============================] - 22s 545ms/step - loss: 1.1440 - accuracy: 0.5422 - val_loss: 1.1542 - val_accuracy: 0.5350\n",
            "Epoch 13/100\n",
            "40/40 [==============================] - 22s 538ms/step - loss: 1.5285 - accuracy: 0.5154 - val_loss: 1.1513 - val_accuracy: 0.5287\n",
            "Epoch 14/100\n",
            "40/40 [==============================] - 22s 560ms/step - loss: 1.1245 - accuracy: 0.5438 - val_loss: 1.1735 - val_accuracy: 0.5096\n",
            "Epoch 15/100\n",
            "40/40 [==============================] - 23s 563ms/step - loss: 1.1332 - accuracy: 0.5304 - val_loss: 1.2136 - val_accuracy: 0.5287\n",
            "Epoch 16/100\n",
            "40/40 [==============================] - 24s 588ms/step - loss: 1.5568 - accuracy: 0.5185 - val_loss: 1.2524 - val_accuracy: 0.5223\n",
            "Epoch 17/100\n",
            "40/40 [==============================] - 22s 557ms/step - loss: 1.0767 - accuracy: 0.5438 - val_loss: 1.1269 - val_accuracy: 0.5414\n",
            "Epoch 18/100\n",
            "40/40 [==============================] - 23s 569ms/step - loss: 1.1433 - accuracy: 0.5209 - val_loss: 1.1577 - val_accuracy: 0.5096\n",
            "Epoch 19/100\n",
            "40/40 [==============================] - 22s 550ms/step - loss: 1.1076 - accuracy: 0.5272 - val_loss: 1.1153 - val_accuracy: 0.5414\n",
            "Epoch 20/100\n",
            "40/40 [==============================] - 23s 572ms/step - loss: 1.1732 - accuracy: 0.5517 - val_loss: 1.4591 - val_accuracy: 0.5223\n",
            "Epoch 21/100\n",
            "40/40 [==============================] - 22s 554ms/step - loss: 1.1072 - accuracy: 0.5430 - val_loss: 2.0506 - val_accuracy: 0.3885\n",
            "Epoch 22/100\n",
            "40/40 [==============================] - 23s 566ms/step - loss: 1.1478 - accuracy: 0.5193 - val_loss: 1.1819 - val_accuracy: 0.5287\n",
            "Epoch 23/100\n",
            "40/40 [==============================] - 23s 570ms/step - loss: 1.1013 - accuracy: 0.5509 - val_loss: 1.2856 - val_accuracy: 0.3439\n",
            "Epoch 24/100\n",
            "40/40 [==============================] - 23s 565ms/step - loss: 1.1109 - accuracy: 0.5446 - val_loss: 1.2076 - val_accuracy: 0.5414\n",
            "Epoch 25/100\n",
            "40/40 [==============================] - 22s 549ms/step - loss: 1.1282 - accuracy: 0.5351 - val_loss: 1.1322 - val_accuracy: 0.5287\n",
            "Epoch 26/100\n",
            "40/40 [==============================] - 23s 569ms/step - loss: 1.1417 - accuracy: 0.5359 - val_loss: 1.1717 - val_accuracy: 0.5414\n",
            "Epoch 27/100\n",
            "40/40 [==============================] - 23s 575ms/step - loss: 1.0667 - accuracy: 0.5683 - val_loss: 1.8392 - val_accuracy: 0.5096\n",
            "Epoch 28/100\n",
            "40/40 [==============================] - 22s 546ms/step - loss: 1.0925 - accuracy: 0.5438 - val_loss: 1.2383 - val_accuracy: 0.5414\n",
            "Epoch 29/100\n",
            "40/40 [==============================] - 24s 590ms/step - loss: 1.1027 - accuracy: 0.5438 - val_loss: 1.3568 - val_accuracy: 0.5478\n",
            "Epoch 30/100\n",
            "40/40 [==============================] - 22s 554ms/step - loss: 1.1075 - accuracy: 0.5493 - val_loss: 1.3192 - val_accuracy: 0.5605\n",
            "Epoch 31/100\n",
            "40/40 [==============================] - 23s 571ms/step - loss: 1.1022 - accuracy: 0.5399 - val_loss: 1.0923 - val_accuracy: 0.5605\n",
            "Epoch 32/100\n",
            "40/40 [==============================] - 22s 552ms/step - loss: 1.0851 - accuracy: 0.5462 - val_loss: 1.1916 - val_accuracy: 0.5414\n",
            "Epoch 33/100\n",
            "40/40 [==============================] - 22s 541ms/step - loss: 1.0612 - accuracy: 0.5722 - val_loss: 1.1950 - val_accuracy: 0.4076\n",
            "Epoch 34/100\n",
            "40/40 [==============================] - 22s 556ms/step - loss: 1.1176 - accuracy: 0.5272 - val_loss: 1.1327 - val_accuracy: 0.5223\n",
            "Epoch 35/100\n",
            "40/40 [==============================] - 23s 570ms/step - loss: 1.1019 - accuracy: 0.5509 - val_loss: 1.3932 - val_accuracy: 0.5159\n",
            "Epoch 36/100\n",
            "40/40 [==============================] - 23s 566ms/step - loss: 1.0896 - accuracy: 0.5604 - val_loss: 1.1461 - val_accuracy: 0.5223\n",
            "Epoch 37/100\n",
            "40/40 [==============================] - 22s 540ms/step - loss: 1.0665 - accuracy: 0.5596 - val_loss: 1.1505 - val_accuracy: 0.5287\n",
            "Epoch 38/100\n",
            "40/40 [==============================] - 23s 570ms/step - loss: 1.0660 - accuracy: 0.5564 - val_loss: 1.6844 - val_accuracy: 0.4904\n",
            "Epoch 39/100\n",
            "40/40 [==============================] - 23s 567ms/step - loss: 1.0926 - accuracy: 0.5667 - val_loss: 1.1401 - val_accuracy: 0.4904\n",
            "Epoch 40/100\n",
            "40/40 [==============================] - 22s 555ms/step - loss: 1.0817 - accuracy: 0.5596 - val_loss: 1.1125 - val_accuracy: 0.5414\n",
            "Epoch 41/100\n",
            "40/40 [==============================] - 23s 568ms/step - loss: 1.0635 - accuracy: 0.5627 - val_loss: 1.1647 - val_accuracy: 0.4522\n",
            "Epoch 42/100\n",
            "40/40 [==============================] - 22s 548ms/step - loss: 1.0788 - accuracy: 0.5517 - val_loss: 1.1777 - val_accuracy: 0.5414\n",
            "Epoch 43/100\n",
            "40/40 [==============================] - 22s 551ms/step - loss: 1.0680 - accuracy: 0.5651 - val_loss: 1.3039 - val_accuracy: 0.5287\n",
            "Epoch 44/100\n",
            "40/40 [==============================] - 22s 548ms/step - loss: 1.0782 - accuracy: 0.5549 - val_loss: 1.1488 - val_accuracy: 0.5223\n",
            "Epoch 45/100\n",
            "40/40 [==============================] - 23s 569ms/step - loss: 1.0638 - accuracy: 0.5517 - val_loss: 1.1221 - val_accuracy: 0.5478\n",
            "Epoch 46/100\n",
            "40/40 [==============================] - 23s 562ms/step - loss: 1.0587 - accuracy: 0.5691 - val_loss: 1.1957 - val_accuracy: 0.4904\n",
            "Epoch 47/100\n",
            "40/40 [==============================] - 23s 576ms/step - loss: 1.0932 - accuracy: 0.5501 - val_loss: 1.1502 - val_accuracy: 0.5159\n",
            "Epoch 48/100\n",
            "40/40 [==============================] - 22s 556ms/step - loss: 1.0731 - accuracy: 0.5541 - val_loss: 1.1401 - val_accuracy: 0.5478\n",
            "Epoch 49/100\n",
            "40/40 [==============================] - 22s 532ms/step - loss: 1.0877 - accuracy: 0.5462 - val_loss: 1.1416 - val_accuracy: 0.5541\n",
            "Epoch 50/100\n",
            "40/40 [==============================] - 22s 554ms/step - loss: 1.0793 - accuracy: 0.5817 - val_loss: 1.1918 - val_accuracy: 0.5478\n",
            "Epoch 51/100\n",
            "40/40 [==============================] - 21s 535ms/step - loss: 1.0650 - accuracy: 0.5572 - val_loss: 1.1311 - val_accuracy: 0.4968\n",
            "Epoch 52/100\n",
            "40/40 [==============================] - 22s 551ms/step - loss: 1.0692 - accuracy: 0.5604 - val_loss: 1.2144 - val_accuracy: 0.5541\n",
            "Epoch 53/100\n",
            "40/40 [==============================] - 23s 566ms/step - loss: 1.0856 - accuracy: 0.5533 - val_loss: 1.7339 - val_accuracy: 0.4268\n",
            "Epoch 54/100\n",
            "40/40 [==============================] - 23s 560ms/step - loss: 1.0521 - accuracy: 0.5714 - val_loss: 1.3925 - val_accuracy: 0.5350\n",
            "Epoch 55/100\n",
            "40/40 [==============================] - 22s 537ms/step - loss: 1.0614 - accuracy: 0.5643 - val_loss: 1.3255 - val_accuracy: 0.5478\n",
            "Epoch 56/100\n",
            "40/40 [==============================] - 23s 568ms/step - loss: 1.0668 - accuracy: 0.5604 - val_loss: 1.2700 - val_accuracy: 0.5414\n",
            "Epoch 57/100\n",
            "40/40 [==============================] - 22s 547ms/step - loss: 1.0448 - accuracy: 0.5706 - val_loss: 1.2507 - val_accuracy: 0.5350\n",
            "Epoch 58/100\n",
            "40/40 [==============================] - 22s 561ms/step - loss: 1.0803 - accuracy: 0.5525 - val_loss: 1.6767 - val_accuracy: 0.5223\n",
            "Epoch 59/100\n",
            "40/40 [==============================] - 22s 535ms/step - loss: 1.2863 - accuracy: 0.5620 - val_loss: 1.1583 - val_accuracy: 0.5350\n",
            "Epoch 60/100\n",
            "40/40 [==============================] - 23s 566ms/step - loss: 1.0484 - accuracy: 0.5706 - val_loss: 1.2897 - val_accuracy: 0.5414\n",
            "Epoch 61/100\n",
            "40/40 [==============================] - 22s 541ms/step - loss: 1.0912 - accuracy: 0.5525 - val_loss: 1.1026 - val_accuracy: 0.5414\n",
            "Epoch 62/100\n",
            "40/40 [==============================] - 22s 557ms/step - loss: 1.0532 - accuracy: 0.5620 - val_loss: 1.4346 - val_accuracy: 0.5287\n",
            "Epoch 63/100\n",
            "40/40 [==============================] - 22s 542ms/step - loss: 1.0647 - accuracy: 0.5572 - val_loss: 1.5691 - val_accuracy: 0.5159\n",
            "Epoch 64/100\n",
            "40/40 [==============================] - 23s 567ms/step - loss: 1.0443 - accuracy: 0.5841 - val_loss: 1.1915 - val_accuracy: 0.5605\n",
            "Epoch 65/100\n",
            "40/40 [==============================] - 23s 564ms/step - loss: 1.0808 - accuracy: 0.5580 - val_loss: 1.2072 - val_accuracy: 0.5414\n",
            "Epoch 66/100\n",
            "40/40 [==============================] - 22s 561ms/step - loss: 1.0535 - accuracy: 0.5667 - val_loss: 1.1868 - val_accuracy: 0.5414\n",
            "Epoch 67/100\n",
            "40/40 [==============================] - 22s 554ms/step - loss: 1.0638 - accuracy: 0.5572 - val_loss: 1.2759 - val_accuracy: 0.5223\n",
            "Epoch 68/100\n",
            "40/40 [==============================] - 22s 560ms/step - loss: 1.0414 - accuracy: 0.5667 - val_loss: 1.1940 - val_accuracy: 0.4968\n",
            "Epoch 69/100\n",
            "40/40 [==============================] - 23s 565ms/step - loss: 1.0466 - accuracy: 0.5651 - val_loss: 1.2591 - val_accuracy: 0.5478\n",
            "Epoch 70/100\n",
            "40/40 [==============================] - 22s 550ms/step - loss: 1.0685 - accuracy: 0.5596 - val_loss: 1.5690 - val_accuracy: 0.5223\n",
            "Epoch 71/100\n",
            "40/40 [==============================] - 22s 545ms/step - loss: 1.1295 - accuracy: 0.5667 - val_loss: 1.1627 - val_accuracy: 0.5159\n"
          ]
        }
      ]
    },
    {
      "cell_type": "code",
      "source": [
        "acc = history.history['accuracy']\n",
        "val_acc = history.history['val_accuracy']\n",
        "\n",
        "loss=history.history['loss']\n",
        "val_loss=history.history['val_loss']\n",
        "epochs = len(history.epoch)\n",
        "epochs_range = range(epochs)\n",
        "\n",
        "plt.figure(figsize=(10, 5))\n",
        "plt.subplot(1, 2, 1)\n",
        "plt.plot(epochs_range, acc, label='Training Accuracy')\n",
        "plt.plot(epochs_range, val_acc, label='Validation Accuracy')\n",
        "plt.legend(loc='lower right')\n",
        "plt.title('Training and Validation Accuracy')\n",
        "\n",
        "plt.subplot(1, 2, 2)\n",
        "plt.plot(epochs_range, loss, label='Training Loss')\n",
        "plt.plot(epochs_range, val_loss, label='Validation Loss')\n",
        "plt.legend(loc='upper right')\n",
        "plt.title('Training and Validation Loss')\n",
        "plt.show()"
      ],
      "metadata": {
        "id": "Cz5fxrbUZ8i_",
        "colab": {
          "base_uri": "https://localhost:8080/",
          "height": 468
        },
        "outputId": "9e7d90f4-27bb-4849-abd4-fb57d4c237b7"
      },
      "execution_count": null,
      "outputs": [
        {
          "output_type": "display_data",
          "data": {
            "text/plain": [
              "<Figure size 1000x500 with 2 Axes>"
            ],
            "image/png": "[encoded data removed]"
          },
          "metadata": {}
        }
      ]
    },
    {
      "cell_type": "code",
      "source": [
        "baseline_results = model.evaluate(test_x, batch_size=32, verbose=0)\n",
        "for name, value in zip(model.metrics_names, baseline_results):\n",
        "  print('Test', name, ': ', value)\n",
        "print()"
      ],
      "metadata": {
        "colab": {
          "base_uri": "https://localhost:8080/"
        },
        "id": "9KHZkWF4aiJ0",
        "outputId": "ef60c157-dc89-47a1-b9d6-5ba9a2b397eb"
      },
      "execution_count": null,
      "outputs": [
        {
          "output_type": "stream",
          "name": "stdout",
          "text": [
            "Test loss :  0.7930875420570374\n",
            "Test accuracy :  0.695652186870575\n",
            "\n"
          ]
        }
      ]
    },
    {
      "cell_type": "code",
      "source": [
        "pred=[]\n",
        "true=[]\n",
        "for i in range(len(test_x)):\n",
        "    testData, testLabels = test_x.next()\n",
        "    test_labels = np.stack(([testLabels[i] for i in range(len(testLabels))]))\n",
        "    test_images = np.stack(([testData[i] for i in range(len(testLabels))]))\n",
        "    predicted = model.predict(test_images)\n",
        "    true+=list(np.argmax(test_labels,axis=1))\n",
        "    pred+=list(np.argmax(predicted, axis=1))"
      ],
      "metadata": {
        "colab": {
          "base_uri": "https://localhost:8080/"
        },
        "id": "j_g04F1E4-E1",
        "outputId": "ccbbb9e1-6dc8-4225-e216-d2a871d90652"
      },
      "execution_count": null,
      "outputs": [
        {
          "output_type": "stream",
          "name": "stdout",
          "text": [
            "1/1 [==============================] - 0s 189ms/step\n",
            "1/1 [==============================] - 0s 32ms/step\n",
            "1/1 [==============================] - 0s 32ms/step\n",
            "1/1 [==============================] - 0s 30ms/step\n",
            "1/1 [==============================] - 0s 28ms/step\n",
            "1/1 [==============================] - 0s 138ms/step\n"
          ]
        }
      ]
    },
    {
      "cell_type": "code",
      "source": [
        "from sklearn.metrics import confusion_matrix\n",
        "import seaborn as sns\n",
        "import matplotlib.pyplot as plt\n",
        "\n",
        "# y_true contains the true labels and y_pred contains the predicted labels\n",
        "cm = confusion_matrix(true, pred)\n",
        "\n",
        "# Create a heatmap of the confusion matrix using seaborn\n",
        "sns.heatmap(cm, annot=True, fmt='d', cmap='Blues')\n",
        "\n",
        "# Add labels, title, and axis ticks\n",
        "plt.xlabel('Predicted Labels')\n",
        "plt.ylabel('True Labels')\n",
        "plt.title('Confusion Matrix')\n",
        "plt.show()"
      ],
      "metadata": {
        "id": "OOfrRucbey13",
        "colab": {
          "base_uri": "https://localhost:8080/",
          "height": 472
        },
        "outputId": "a45e1a97-c935-43ee-e795-9526b2962dd0"
      },
      "execution_count": null,
      "outputs": [
        {
          "output_type": "display_data",
          "data": {
            "text/plain": [
              "<Figure size 640x480 with 2 Axes>"
            ],
            "image/png": "[encoded data removed]"
          },
          "metadata": {}
        }
      ]
    }
  ]
}